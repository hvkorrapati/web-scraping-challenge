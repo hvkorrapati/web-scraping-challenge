{
 "cells": [
  {
   "cell_type": "code",
   "execution_count": null,
   "id": "70b41180",
   "metadata": {},
   "outputs": [],
   "source": [
    "# Import Dependencies\n",
    "\n",
    "import pymongo\n",
    "from splinter import Browser\n",
    "from bs4 import BeautifulSoup as bs\n",
    "from webdriver_manager.chrome import ChromeDriverManager\n",
    "import pandas as pd\n",
    "from scrape_mars import scrape"
   ]
  },
  {
   "cell_type": "code",
   "execution_count": null,
   "id": "d4f23d54",
   "metadata": {},
   "outputs": [],
   "source": [
    "# Setup splinter\n",
    "\n",
    "executable_path = {'executable_path': ChromeDriverManager().install()}\n",
    "browser = Browser('chrome', **executable_path, headless = False)\n",
    "\n"
   ]
  },
  {
   "cell_type": "code",
   "execution_count": null,
   "id": "7270b78f",
   "metadata": {},
   "outputs": [],
   "source": [
    "# url\n",
    "\n",
    "url = 'https://redplanetscience.com/'\n",
    "browser.visit(url)\n"
   ]
  },
  {
   "cell_type": "code",
   "execution_count": null,
   "id": "7d2b8eaa",
   "metadata": {},
   "outputs": [],
   "source": [
    "# html and bs \n",
    "browser.is_element_present_by_css('div.list_text', wait_time=5)\n",
    "\n",
    "html = browser.html\n",
    "soup = bs(html, 'html.parser')"
   ]
  },
  {
   "cell_type": "code",
   "execution_count": null,
   "id": "1aa77b6f",
   "metadata": {},
   "outputs": [],
   "source": [
    "# NASA Mars News -- two variables\n",
    "\n",
    "news_title = soup.find('div', class_ = 'content_title').text.strip()\n",
    "news_p = soup.find('div', class_ = 'article_teaser_body').text.strip()\n",
    "news_title"
   ]
  },
  {
   "cell_type": "code",
   "execution_count": null,
   "id": "e8793d0d",
   "metadata": {},
   "outputs": [],
   "source": [
    "# JPL Mars Space Images—Featured Image\n",
    "\n",
    "url = 'https://spaceimages-mars.com'\n",
    "browser.visit(url)\n",
    "\n",
    "html = browser.html\n",
    "soup = bs(html, 'html.parser')\n",
    "\n",
    "image = soup.find('img', class_ = \"headerimage fade-in\")['src']\n",
    "\n",
    "featured_image_url = f\"https://spaceimages-mars.com/{image}\"\n"
   ]
  },
  {
   "cell_type": "code",
   "execution_count": null,
   "id": "a15e5d64",
   "metadata": {},
   "outputs": [],
   "source": [
    "# Mars Facts\n",
    "url = 'https://galaxyfacts-mars.com'\n",
    "browser.visit(url)\n",
    "\n",
    "tables = pd.read_html('https://galaxyfacts-mars.com')\n",
    "df = tables[1]\n",
    "table = df.to_html()\n",
    "table = table.replace('\\n', '')"
   ]
  },
  {
   "cell_type": "code",
   "execution_count": null,
   "id": "beb6a72a",
   "metadata": {},
   "outputs": [],
   "source": [
    "# Mars Hemispheres\n",
    "\n",
    "img_url = ''\n",
    "title = ''\n",
    "\n",
    "hemi_list = ['cerberus',\n",
    "            'valles',\n",
    "            'schiaparelli',\n",
    "            'syrtis']\n",
    "\n",
    "hemisphere_image_urls = []\n",
    "\n",
    "for x in range (0,4):\n",
    "    url = f'https://marshemispheres.com/{hemi_list[x]}.html'\n",
    "    browser.visit(url)\n",
    "    browser.is_element_present_by_css('a', wait_time=5)\n",
    "\n",
    "    html = browser.html\n",
    "    soup = bs(html, 'html.parser')\n",
    "    \n",
    "    title = hemi_list[x]\n",
    "    img_url = soup.find_all('li')[0].a['href']\n",
    "    \n",
    "    hemisphere_image_urls.append({\"title\": title, \"img_url\": f'https://marshemispheres.com/{img_url}'})\n",
    "    \n",
    "    img_url = ''\n",
    "    title = ''"
   ]
  },
  {
   "cell_type": "code",
   "execution_count": null,
   "id": "28b24305",
   "metadata": {},
   "outputs": [],
   "source": [
    "# Quit Browser\n",
    "\n",
    "browser.quit()"
   ]
  },
  {
   "cell_type": "code",
   "execution_count": null,
   "id": "c8a7eb17",
   "metadata": {},
   "outputs": [],
   "source": [
    "# Master Dictionary of all scraped data\n",
    "\n",
    "master_dict = {}\n",
    "master_dict['news_title'] = news_title\n",
    "master_dict['news_description'] = news_p\n",
    "master_dict['featured_image_url'] = featured_image_url\n",
    "master_dict['mars_facts'] = table\n",
    "master_dict['hemisphere_image_urls'] = hemisphere_image_urls"
   ]
  },
  {
   "cell_type": "code",
   "execution_count": null,
   "id": "321fa31e",
   "metadata": {},
   "outputs": [],
   "source": []
  },
  {
   "cell_type": "code",
   "execution_count": null,
   "id": "9614b1e4",
   "metadata": {},
   "outputs": [],
   "source": []
  },
  {
   "cell_type": "code",
   "execution_count": null,
   "id": "f72a979b",
   "metadata": {},
   "outputs": [],
   "source": []
  },
  {
   "cell_type": "code",
   "execution_count": null,
   "id": "2f129626",
   "metadata": {},
   "outputs": [],
   "source": []
  },
  {
   "cell_type": "code",
   "execution_count": null,
   "id": "273ef99d",
   "metadata": {},
   "outputs": [],
   "source": []
  },
  {
   "cell_type": "code",
   "execution_count": null,
   "id": "b6363104",
   "metadata": {},
   "outputs": [],
   "source": []
  }
 ],
 "metadata": {
  "kernelspec": {
   "display_name": "Python [conda env:PythonData38] *",
   "language": "python",
   "name": "conda-env-PythonData38-py"
  },
  "language_info": {
   "codemirror_mode": {
    "name": "ipython",
    "version": 3
   },
   "file_extension": ".py",
   "mimetype": "text/x-python",
   "name": "python",
   "nbconvert_exporter": "python",
   "pygments_lexer": "ipython3",
   "version": "3.8.12"
  }
 },
 "nbformat": 4,
 "nbformat_minor": 5
}
